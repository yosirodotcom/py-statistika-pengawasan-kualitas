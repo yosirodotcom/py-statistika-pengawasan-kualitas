{
 "cells": [
  {
   "cell_type": "code",
   "execution_count": 1,
   "metadata": {},
   "outputs": [],
   "source": [
    "# !pip install xlsx2csv"
   ]
  },
  {
   "cell_type": "code",
   "execution_count": 32,
   "metadata": {},
   "outputs": [],
   "source": [
    "import polars as pl\n",
    "import pandas as pd\n",
    "import numpy as np"
   ]
  },
  {
   "cell_type": "markdown",
   "metadata": {},
   "source": [
    "# GROUP CONTROL CHART"
   ]
  },
  {
   "cell_type": "code",
   "execution_count": 3,
   "metadata": {},
   "outputs": [
    {
     "data": {
      "text/html": [
       "<div><style>\n",
       ".dataframe > thead > tr,\n",
       ".dataframe > tbody > tr {\n",
       "  text-align: right;\n",
       "  white-space: pre-wrap;\n",
       "}\n",
       "</style>\n",
       "<small>shape: (36, 4)</small><table border=\"1\" class=\"dataframe\"><thead><tr><th>pad1</th><th>pad2</th><th>pad3</th><th>pad4</th></tr><tr><td>i64</td><td>i64</td><td>i64</td><td>i64</td></tr></thead><tbody><tr><td>933</td><td>937</td><td>938</td><td>935</td></tr><tr><td>897</td><td>898</td><td>915</td><td>913</td></tr><tr><td>840</td><td>900</td><td>900</td><td>930</td></tr><tr><td>900</td><td>905</td><td>902</td><td>900</td></tr><tr><td>879</td><td>852</td><td>873</td><td>871</td></tr><tr><td>&hellip;</td><td>&hellip;</td><td>&hellip;</td><td>&hellip;</td></tr><tr><td>900</td><td>905</td><td>925</td><td>925</td></tr><tr><td>910</td><td>910</td><td>915</td><td>910</td></tr><tr><td>900</td><td>905</td><td>900</td><td>910</td></tr><tr><td>900</td><td>950</td><td>920</td><td>900</td></tr><tr><td>940</td><td>938</td><td>940</td><td>938</td></tr></tbody></table></div>"
      ],
      "text/plain": [
       "shape: (36, 4)\n",
       "┌──────┬──────┬──────┬──────┐\n",
       "│ pad1 ┆ pad2 ┆ pad3 ┆ pad4 │\n",
       "│ ---  ┆ ---  ┆ ---  ┆ ---  │\n",
       "│ i64  ┆ i64  ┆ i64  ┆ i64  │\n",
       "╞══════╪══════╪══════╪══════╡\n",
       "│ 933  ┆ 937  ┆ 938  ┆ 935  │\n",
       "│ 897  ┆ 898  ┆ 915  ┆ 913  │\n",
       "│ 840  ┆ 900  ┆ 900  ┆ 930  │\n",
       "│ 900  ┆ 905  ┆ 902  ┆ 900  │\n",
       "│ 879  ┆ 852  ┆ 873  ┆ 871  │\n",
       "│ …    ┆ …    ┆ …    ┆ …    │\n",
       "│ 900  ┆ 905  ┆ 925  ┆ 925  │\n",
       "│ 910  ┆ 910  ┆ 915  ┆ 910  │\n",
       "│ 900  ┆ 905  ┆ 900  ┆ 910  │\n",
       "│ 900  ┆ 950  ┆ 920  ┆ 900  │\n",
       "│ 940  ┆ 938  ┆ 940  ┆ 938  │\n",
       "└──────┴──────┴──────┴──────┘"
      ]
     },
     "execution_count": 3,
     "metadata": {},
     "output_type": "execute_result"
    }
   ],
   "source": [
    "df = pl.read_excel(\"tabel_3_1.xlsx\")\n",
    "df"
   ]
  },
  {
   "cell_type": "code",
   "execution_count": 4,
   "metadata": {},
   "outputs": [],
   "source": [
    "# Helper Function 1\n",
    "def buat_kelompok(df):\n",
    "    n = df.shape[0]\n",
    "    grup = []\n",
    "    num_kontrol = 1\n",
    "\n",
    "    for i in range(int(n/2)):\n",
    "        for j in range(2):        \n",
    "            grup.append(f\"{num_kontrol+i}-{num_kontrol+i+1}\")\n",
    "            num_kontrol += j\n",
    "    return grup\n",
    " \n",
    "# Helper Function 2\n",
    "def tabelKelompok(df, n_pad):\n",
    "    grup = buat_kelompok(df)\n",
    "    df = df.with_columns(pl.Series(grup).alias('grup'))\n",
    "    \n",
    "    n = df.shape[0]\n",
    "    genap = [x-1 for x in range(1, n + 1) if x % 2 != 0]\n",
    "    ganjil = [x-1 for x in range(1, n + 1) if x % 2 == 0]\n",
    "\n",
    "    a = []\n",
    "    for i in genap:\n",
    "        for j in range(n_pad):\n",
    "            a.append(df[i,j])\n",
    "\n",
    "    b = []\n",
    "    for i in ganjil:\n",
    "        for j in range(n_pad):\n",
    "            b.append(df[i,j])\n",
    "\n",
    "    df_kelompok = df.select([pl.col(\"grup\").repeat_by(2).explode()])\n",
    "    df_kelompok = df_kelompok.with_columns([\n",
    "        pl.Series(a).alias(\"a\"),\n",
    "        pl.Series(b).alias(\"b\")\n",
    "    ])\n",
    "    df_kelompok = df_kelompok.with_columns(pl.mean_horizontal(pl.col(\"a\", \"b\")).alias(\"mean\"))\n",
    "    df_kelompok = df_kelompok.with_columns(R=(pl.col(\"a\")-pl.col(\"b\")).abs())\n",
    "    return df_kelompok"
   ]
  },
  {
   "cell_type": "code",
   "execution_count": 5,
   "metadata": {},
   "outputs": [
    {
     "data": {
      "text/html": [
       "<div><style>\n",
       ".dataframe > thead > tr,\n",
       ".dataframe > tbody > tr {\n",
       "  text-align: right;\n",
       "  white-space: pre-wrap;\n",
       "}\n",
       "</style>\n",
       "<small>shape: (72, 5)</small><table border=\"1\" class=\"dataframe\"><thead><tr><th>grup</th><th>a</th><th>b</th><th>mean</th><th>R</th></tr><tr><td>str</td><td>i64</td><td>i64</td><td>f64</td><td>i64</td></tr></thead><tbody><tr><td>&quot;1-2&quot;</td><td>933</td><td>897</td><td>915.0</td><td>36</td></tr><tr><td>&quot;1-2&quot;</td><td>937</td><td>898</td><td>917.5</td><td>39</td></tr><tr><td>&quot;1-2&quot;</td><td>938</td><td>915</td><td>926.5</td><td>23</td></tr><tr><td>&quot;1-2&quot;</td><td>935</td><td>913</td><td>924.0</td><td>22</td></tr><tr><td>&quot;3-4&quot;</td><td>840</td><td>900</td><td>870.0</td><td>60</td></tr><tr><td>&hellip;</td><td>&hellip;</td><td>&hellip;</td><td>&hellip;</td><td>&hellip;</td></tr><tr><td>&quot;33-34&quot;</td><td>910</td><td>910</td><td>910.0</td><td>0</td></tr><tr><td>&quot;35-36&quot;</td><td>900</td><td>940</td><td>920.0</td><td>40</td></tr><tr><td>&quot;35-36&quot;</td><td>950</td><td>938</td><td>944.0</td><td>12</td></tr><tr><td>&quot;35-36&quot;</td><td>920</td><td>940</td><td>930.0</td><td>20</td></tr><tr><td>&quot;35-36&quot;</td><td>900</td><td>938</td><td>919.0</td><td>38</td></tr></tbody></table></div>"
      ],
      "text/plain": [
       "shape: (72, 5)\n",
       "┌───────┬─────┬─────┬───────┬─────┐\n",
       "│ grup  ┆ a   ┆ b   ┆ mean  ┆ R   │\n",
       "│ ---   ┆ --- ┆ --- ┆ ---   ┆ --- │\n",
       "│ str   ┆ i64 ┆ i64 ┆ f64   ┆ i64 │\n",
       "╞═══════╪═════╪═════╪═══════╪═════╡\n",
       "│ 1-2   ┆ 933 ┆ 897 ┆ 915.0 ┆ 36  │\n",
       "│ 1-2   ┆ 937 ┆ 898 ┆ 917.5 ┆ 39  │\n",
       "│ 1-2   ┆ 938 ┆ 915 ┆ 926.5 ┆ 23  │\n",
       "│ 1-2   ┆ 935 ┆ 913 ┆ 924.0 ┆ 22  │\n",
       "│ 3-4   ┆ 840 ┆ 900 ┆ 870.0 ┆ 60  │\n",
       "│ …     ┆ …   ┆ …   ┆ …     ┆ …   │\n",
       "│ 33-34 ┆ 910 ┆ 910 ┆ 910.0 ┆ 0   │\n",
       "│ 35-36 ┆ 900 ┆ 940 ┆ 920.0 ┆ 40  │\n",
       "│ 35-36 ┆ 950 ┆ 938 ┆ 944.0 ┆ 12  │\n",
       "│ 35-36 ┆ 920 ┆ 940 ┆ 930.0 ┆ 20  │\n",
       "│ 35-36 ┆ 900 ┆ 938 ┆ 919.0 ┆ 38  │\n",
       "└───────┴─────┴─────┴───────┴─────┘"
      ]
     },
     "execution_count": 5,
     "metadata": {},
     "output_type": "execute_result"
    }
   ],
   "source": [
    "tabel_kelompok = tabelKelompok(df=df, n_pad=4)\n",
    "tabel_kelompok"
   ]
  },
  {
   "cell_type": "code",
   "execution_count": 6,
   "metadata": {},
   "outputs": [
    {
     "name": "stdout",
     "output_type": "stream",
     "text": [
      "X mean = 910.7222222222222\n",
      "R_mean = 17.416666666666668\n"
     ]
    }
   ],
   "source": [
    "X_mean = (tabel_kelompok.select([\n",
    "    pl.mean(\"mean\")\n",
    "]))[0,0]\n",
    "R_mean = (tabel_kelompok.select([\n",
    "    pl.mean(\"R\")\n",
    "]))[0,0]\n",
    "\n",
    "print(f\"X mean = {X_mean}\\nR_mean = {R_mean}\")"
   ]
  },
  {
   "cell_type": "code",
   "execution_count": 7,
   "metadata": {},
   "outputs": [
    {
     "name": "stdout",
     "output_type": "stream",
     "text": [
      "LKA_x_mean = 943.4655555555555\n",
      "LKB_x_mean = 877.9788888888888\n",
      "LKA_r_mean = 56.95250000000001\n",
      "LKB_r_mean = 0.0\n"
     ]
    }
   ],
   "source": [
    "LKA_x_mean = X_mean + 1.88*R_mean\n",
    "LKB_x_mean = X_mean - 1.88*R_mean\n",
    "LKA_r_mean = 3.27*R_mean\n",
    "LKB_r_mean = 0*R_mean\n",
    "\n",
    "print(f\"LKA_x_mean = {LKA_x_mean}\\nLKB_x_mean = {LKB_x_mean}\\nLKA_r_mean = {LKA_r_mean}\\nLKB_r_mean = {LKB_r_mean}\")"
   ]
  },
  {
   "cell_type": "markdown",
   "metadata": {},
   "source": [
    "# Control Chart dengan n sampel tak sama"
   ]
  },
  {
   "cell_type": "code",
   "execution_count": 8,
   "metadata": {},
   "outputs": [
    {
     "data": {
      "text/html": [
       "<div><style>\n",
       ".dataframe > thead > tr,\n",
       ".dataframe > tbody > tr {\n",
       "  text-align: right;\n",
       "  white-space: pre-wrap;\n",
       "}\n",
       "</style>\n",
       "<small>shape: (9, 6)</small><table border=\"1\" class=\"dataframe\"><thead><tr><th>mesin</th><th>n</th><th>x_mean</th><th>s</th><th>nx</th><th>ns^2</th></tr><tr><td>i64</td><td>i64</td><td>i64</td><td>i64</td><td>i64</td><td>f64</td></tr></thead><tbody><tr><td>1</td><td>132</td><td>465</td><td>465</td><td>61380</td><td>2.85417e7</td></tr><tr><td>2</td><td>126</td><td>531</td><td>531</td><td>66906</td><td>3.5527086e7</td></tr><tr><td>3</td><td>128</td><td>561</td><td>561</td><td>71808</td><td>4.0284288e7</td></tr><tr><td>4</td><td>126</td><td>480</td><td>480</td><td>60480</td><td>2.90304e7</td></tr><tr><td>5</td><td>130</td><td>542</td><td>542</td><td>70460</td><td>3.818932e7</td></tr><tr><td>6</td><td>129</td><td>557</td><td>557</td><td>71853</td><td>4.0022121e7</td></tr><tr><td>7</td><td>120</td><td>604</td><td>604</td><td>72480</td><td>4.377792e7</td></tr><tr><td>8</td><td>117</td><td>573</td><td>573</td><td>67041</td><td>3.8414493e7</td></tr><tr><td>9</td><td>131</td><td>617</td><td>617</td><td>80827</td><td>4.9870259e7</td></tr></tbody></table></div>"
      ],
      "text/plain": [
       "shape: (9, 6)\n",
       "┌───────┬─────┬────────┬─────┬───────┬─────────────┐\n",
       "│ mesin ┆ n   ┆ x_mean ┆ s   ┆ nx    ┆ ns^2        │\n",
       "│ ---   ┆ --- ┆ ---    ┆ --- ┆ ---   ┆ ---         │\n",
       "│ i64   ┆ i64 ┆ i64    ┆ i64 ┆ i64   ┆ f64         │\n",
       "╞═══════╪═════╪════════╪═════╪═══════╪═════════════╡\n",
       "│ 1     ┆ 132 ┆ 465    ┆ 465 ┆ 61380 ┆ 2.85417e7   │\n",
       "│ 2     ┆ 126 ┆ 531    ┆ 531 ┆ 66906 ┆ 3.5527086e7 │\n",
       "│ 3     ┆ 128 ┆ 561    ┆ 561 ┆ 71808 ┆ 4.0284288e7 │\n",
       "│ 4     ┆ 126 ┆ 480    ┆ 480 ┆ 60480 ┆ 2.90304e7   │\n",
       "│ 5     ┆ 130 ┆ 542    ┆ 542 ┆ 70460 ┆ 3.818932e7  │\n",
       "│ 6     ┆ 129 ┆ 557    ┆ 557 ┆ 71853 ┆ 4.0022121e7 │\n",
       "│ 7     ┆ 120 ┆ 604    ┆ 604 ┆ 72480 ┆ 4.377792e7  │\n",
       "│ 8     ┆ 117 ┆ 573    ┆ 573 ┆ 67041 ┆ 3.8414493e7 │\n",
       "│ 9     ┆ 131 ┆ 617    ┆ 617 ┆ 80827 ┆ 4.9870259e7 │\n",
       "└───────┴─────┴────────┴─────┴───────┴─────────────┘"
      ]
     },
     "execution_count": 8,
     "metadata": {},
     "output_type": "execute_result"
    }
   ],
   "source": [
    "df = pl.read_excel(\"tabel_3_2.xlsx\")\n",
    "df = df.with_columns(\n",
    "    [\n",
    "        (pl.col(\"n\")*pl.col(\"x_mean\")).alias(\"nx\"),\n",
    "        (pl.col(\"n\")*pl.col(\"s\")**2).alias(\"ns^2\")\n",
    "    ]\n",
    ")\n",
    "df"
   ]
  },
  {
   "cell_type": "code",
   "execution_count": 9,
   "metadata": {},
   "outputs": [
    {
     "name": "stdout",
     "output_type": "stream",
     "text": [
      "x_mean_1 = 547.7777777777778\n",
      "x_mean_2 = 547.1773485513609\n",
      "s_mean_1 = 547.7777777777778\n",
      "s_mean_2 = 549.2892582247113\n"
     ]
    }
   ],
   "source": [
    "x_mean_1 = (df.select([pl.mean(\"x_mean\")]))[0,0]\n",
    "x_mean_2 = (df.select([pl.sum(\"nx\")/pl.sum(\"n\")]))[0,0]\n",
    "\n",
    "s_mean_1 = (df.select([pl.mean(\"s\")]))[0,0]\n",
    "s_mean_2 = (df.select([(pl.sum(\"ns^2\")/pl.sum(\"n\")).sqrt()]))[0,0]\n",
    "\n",
    "print(f\"x_mean_1 = {x_mean_1}\\nx_mean_2 = {x_mean_2}\\ns_mean_1 = {s_mean_1}\\ns_mean_2 = {s_mean_2}\")"
   ]
  },
  {
   "cell_type": "markdown",
   "metadata": {},
   "source": [
    "## Kontrol Chart dengan Midrange"
   ]
  },
  {
   "cell_type": "code",
   "execution_count": 59,
   "metadata": {},
   "outputs": [
    {
     "data": {
      "text/html": [
       "<div><style>\n",
       ".dataframe > thead > tr,\n",
       ".dataframe > tbody > tr {\n",
       "  text-align: right;\n",
       "  white-space: pre-wrap;\n",
       "}\n",
       "</style>\n",
       "<small>shape: (20, 5)</small><table border=\"1\" class=\"dataframe\"><thead><tr><th>jam1</th><th>jam2</th><th>jam3</th><th>jam4</th><th>jam5</th></tr><tr><td>i64</td><td>i64</td><td>i64</td><td>i64</td><td>i64</td></tr></thead><tbody><tr><td>36</td><td>35</td><td>34</td><td>33</td><td>32</td></tr><tr><td>31</td><td>31</td><td>34</td><td>32</td><td>30</td></tr><tr><td>30</td><td>30</td><td>32</td><td>30</td><td>32</td></tr><tr><td>32</td><td>33</td><td>33</td><td>32</td><td>35</td></tr><tr><td>32</td><td>34</td><td>37</td><td>37</td><td>35</td></tr><tr><td>&hellip;</td><td>&hellip;</td><td>&hellip;</td><td>&hellip;</td><td>&hellip;</td></tr><tr><td>28</td><td>31</td><td>33</td><td>33</td><td>33</td></tr><tr><td>33</td><td>30</td><td>34</td><td>33</td><td>35</td></tr><tr><td>27</td><td>28</td><td>29</td><td>27</td><td>30</td></tr><tr><td>35</td><td>36</td><td>29</td><td>27</td><td>32</td></tr><tr><td>33</td><td>35</td><td>35</td><td>39</td><td>36</td></tr></tbody></table></div>"
      ],
      "text/plain": [
       "shape: (20, 5)\n",
       "┌──────┬──────┬──────┬──────┬──────┐\n",
       "│ jam1 ┆ jam2 ┆ jam3 ┆ jam4 ┆ jam5 │\n",
       "│ ---  ┆ ---  ┆ ---  ┆ ---  ┆ ---  │\n",
       "│ i64  ┆ i64  ┆ i64  ┆ i64  ┆ i64  │\n",
       "╞══════╪══════╪══════╪══════╪══════╡\n",
       "│ 36   ┆ 35   ┆ 34   ┆ 33   ┆ 32   │\n",
       "│ 31   ┆ 31   ┆ 34   ┆ 32   ┆ 30   │\n",
       "│ 30   ┆ 30   ┆ 32   ┆ 30   ┆ 32   │\n",
       "│ 32   ┆ 33   ┆ 33   ┆ 32   ┆ 35   │\n",
       "│ 32   ┆ 34   ┆ 37   ┆ 37   ┆ 35   │\n",
       "│ …    ┆ …    ┆ …    ┆ …    ┆ …    │\n",
       "│ 28   ┆ 31   ┆ 33   ┆ 33   ┆ 33   │\n",
       "│ 33   ┆ 30   ┆ 34   ┆ 33   ┆ 35   │\n",
       "│ 27   ┆ 28   ┆ 29   ┆ 27   ┆ 30   │\n",
       "│ 35   ┆ 36   ┆ 29   ┆ 27   ┆ 32   │\n",
       "│ 33   ┆ 35   ┆ 35   ┆ 39   ┆ 36   │\n",
       "└──────┴──────┴──────┴──────┴──────┘"
      ]
     },
     "execution_count": 59,
     "metadata": {},
     "output_type": "execute_result"
    }
   ],
   "source": [
    "df = pl.read_excel(\"tabel_3_3.xlsx\")\n",
    "df"
   ]
  },
  {
   "cell_type": "code",
   "execution_count": 61,
   "metadata": {},
   "outputs": [
    {
     "name": "stdout",
     "output_type": "stream",
     "text": [
      "LKA_M = 36.895, LKB_R = 30.105\n",
      "LKA_R = 10.895, LKB_R = 0.0\n"
     ]
    }
   ],
   "source": [
    "\n",
    "def cc_midrange(data, A4, D5, D6):\n",
    "    \n",
    "    M=data.select([\n",
    "        ((data.max_horizontal() + data.min_horizontal())/2).alias(\"M\")\n",
    "    ]).to_series()\n",
    "    R=data.select([    \n",
    "        (data.max_horizontal() - data.min_horizontal()).alias(\"R\")\n",
    "        \n",
    "    ]).to_series()\n",
    "    x_mean=data.select([    \n",
    "        data.mean_horizontal().alias(\"x_mean\"),\n",
    "    ]).to_series()\n",
    "\n",
    "    data = data.hstack([M,x_mean,R])\n",
    "    median_M = data[\"M\"].median()\n",
    "    median_R = data[\"R\"].median()\n",
    "    LKA_M = median_M + A4*median_R\n",
    "    LKB_M = median_M - A4*median_R\n",
    "    LKA_R = D6*median_R\n",
    "    LKB_R = D5*median_R\n",
    "\n",
    "    print(f\"LKA_M = {LKA_M}, LKB_R = {LKB_M}\\nLKA_R = {LKA_R}, LKB_R = {LKB_R}\")\n",
    "\n",
    "cc_midrange(data=df, A4=0.679, D5=0, D6=2.179)\n",
    "\n"
   ]
  }
 ],
 "metadata": {
  "kernelspec": {
   "display_name": "base",
   "language": "python",
   "name": "python3"
  },
  "language_info": {
   "codemirror_mode": {
    "name": "ipython",
    "version": 3
   },
   "file_extension": ".py",
   "mimetype": "text/x-python",
   "name": "python",
   "nbconvert_exporter": "python",
   "pygments_lexer": "ipython3",
   "version": "3.11.5"
  }
 },
 "nbformat": 4,
 "nbformat_minor": 2
}
