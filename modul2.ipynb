{
 "cells": [
  {
   "cell_type": "code",
   "execution_count": 8,
   "metadata": {},
   "outputs": [
    {
     "name": "stdout",
     "output_type": "stream",
     "text": [
      "Collecting xlsx2csv\n",
      "  Downloading xlsx2csv-0.8.2.tar.gz (227 kB)\n",
      "     ---------------------------------------- 0.0/227.1 kB ? eta -:--:--\n",
      "     ---------------------------------------- 0.0/227.1 kB ? eta -:--:--\n",
      "     - -------------------------------------- 10.2/227.1 kB ? eta -:--:--\n",
      "     ----- ------------------------------- 30.7/227.1 kB 262.6 kB/s eta 0:00:01\n",
      "     ------ ------------------------------ 41.0/227.1 kB 279.3 kB/s eta 0:00:01\n",
      "     ----------------- ------------------ 112.6/227.1 kB 544.7 kB/s eta 0:00:01\n",
      "     ------------------------------------ 227.1/227.1 kB 990.3 kB/s eta 0:00:00\n",
      "  Installing build dependencies: started\n",
      "  Installing build dependencies: finished with status 'done'\n",
      "  Getting requirements to build wheel: started\n",
      "  Getting requirements to build wheel: finished with status 'done'\n",
      "  Preparing metadata (pyproject.toml): started\n",
      "  Preparing metadata (pyproject.toml): finished with status 'done'\n",
      "Building wheels for collected packages: xlsx2csv\n",
      "  Building wheel for xlsx2csv (pyproject.toml): started\n",
      "  Building wheel for xlsx2csv (pyproject.toml): finished with status 'done'\n",
      "  Created wheel for xlsx2csv: filename=xlsx2csv-0.8.2-py3-none-any.whl size=14229 sha256=b95bd14234bf2e69996deabae178ee1c39991632fe3bed49abcb8471f9e085f9\n",
      "  Stored in directory: c:\\users\\yosir\\appdata\\local\\pip\\cache\\wheels\\e2\\26\\ea\\8ea1529b55c451007b3edcafeede8bf1e3c37c12bc5d241b35\n",
      "Successfully built xlsx2csv\n",
      "Installing collected packages: xlsx2csv\n",
      "Successfully installed xlsx2csv-0.8.2\n"
     ]
    }
   ],
   "source": [
    "!pip install xlsx2csv"
   ]
  },
  {
   "cell_type": "code",
   "execution_count": 6,
   "metadata": {},
   "outputs": [],
   "source": [
    "import polars as pl"
   ]
  },
  {
   "cell_type": "code",
   "execution_count": 39,
   "metadata": {},
   "outputs": [
    {
     "data": {
      "text/html": [
       "<div><style>\n",
       ".dataframe > thead > tr,\n",
       ".dataframe > tbody > tr {\n",
       "  text-align: right;\n",
       "  white-space: pre-wrap;\n",
       "}\n",
       "</style>\n",
       "<small>shape: (6, 4)</small><table border=\"1\" class=\"dataframe\"><thead><tr><th>pad1</th><th>pad2</th><th>pad3</th><th>pad4</th></tr><tr><td>i64</td><td>i64</td><td>i64</td><td>i64</td></tr></thead><tbody><tr><td>933</td><td>937</td><td>938</td><td>935</td></tr><tr><td>897</td><td>898</td><td>915</td><td>913</td></tr><tr><td>840</td><td>900</td><td>900</td><td>930</td></tr><tr><td>900</td><td>905</td><td>902</td><td>900</td></tr><tr><td>879</td><td>852</td><td>873</td><td>871</td></tr><tr><td>903</td><td>890</td><td>892</td><td>908</td></tr></tbody></table></div>"
      ],
      "text/plain": [
       "shape: (6, 4)\n",
       "┌──────┬──────┬──────┬──────┐\n",
       "│ pad1 ┆ pad2 ┆ pad3 ┆ pad4 │\n",
       "│ ---  ┆ ---  ┆ ---  ┆ ---  │\n",
       "│ i64  ┆ i64  ┆ i64  ┆ i64  │\n",
       "╞══════╪══════╪══════╪══════╡\n",
       "│ 933  ┆ 937  ┆ 938  ┆ 935  │\n",
       "│ 897  ┆ 898  ┆ 915  ┆ 913  │\n",
       "│ 840  ┆ 900  ┆ 900  ┆ 930  │\n",
       "│ 900  ┆ 905  ┆ 902  ┆ 900  │\n",
       "│ 879  ┆ 852  ┆ 873  ┆ 871  │\n",
       "│ 903  ┆ 890  ┆ 892  ┆ 908  │\n",
       "└──────┴──────┴──────┴──────┘"
      ]
     },
     "execution_count": 39,
     "metadata": {},
     "output_type": "execute_result"
    }
   ],
   "source": [
    "df = pl.read_excel(\"tabel_3_1.xlsx\")\n",
    "df"
   ]
  },
  {
   "cell_type": "code",
   "execution_count": 25,
   "metadata": {},
   "outputs": [],
   "source": [
    "def buat_kelompok(df):\n",
    "    n = df.shape[0]\n",
    "    grup = []\n",
    "    num_kontrol = 1\n",
    "\n",
    "    for i in range(int(n/2)):\n",
    "        for j in range(2):        \n",
    "            grup.append(f\"{num_kontrol+i}-{num_kontrol+i+1}\")\n",
    "            num_kontrol += j\n",
    "    return grup\n"
   ]
  },
  {
   "cell_type": "code",
   "execution_count": 47,
   "metadata": {},
   "outputs": [],
   "source": [
    "grup = buat_kelompok(df)\n",
    "df = df.with_columns(pl.Series(grup).alias('grup'))"
   ]
  },
  {
   "cell_type": "code",
   "execution_count": null,
   "metadata": {},
   "outputs": [],
   "source": []
  },
  {
   "cell_type": "code",
   "execution_count": 106,
   "metadata": {},
   "outputs": [
    {
     "data": {
      "text/html": [
       "<div><style>\n",
       ".dataframe > thead > tr,\n",
       ".dataframe > tbody > tr {\n",
       "  text-align: right;\n",
       "  white-space: pre-wrap;\n",
       "}\n",
       "</style>\n",
       "<small>shape: (12, 5)</small><table border=\"1\" class=\"dataframe\"><thead><tr><th>grup</th><th>a</th><th>b</th><th>mean</th><th>R</th></tr><tr><td>str</td><td>i64</td><td>i64</td><td>f64</td><td>i64</td></tr></thead><tbody><tr><td>&quot;1-2&quot;</td><td>933</td><td>897</td><td>915.0</td><td>36</td></tr><tr><td>&quot;1-2&quot;</td><td>937</td><td>898</td><td>917.5</td><td>39</td></tr><tr><td>&quot;1-2&quot;</td><td>938</td><td>915</td><td>926.5</td><td>23</td></tr><tr><td>&quot;1-2&quot;</td><td>935</td><td>913</td><td>924.0</td><td>22</td></tr><tr><td>&quot;3-4&quot;</td><td>840</td><td>900</td><td>870.0</td><td>60</td></tr><tr><td>&hellip;</td><td>&hellip;</td><td>&hellip;</td><td>&hellip;</td><td>&hellip;</td></tr><tr><td>&quot;3-4&quot;</td><td>930</td><td>900</td><td>915.0</td><td>30</td></tr><tr><td>&quot;5-6&quot;</td><td>879</td><td>903</td><td>891.0</td><td>24</td></tr><tr><td>&quot;5-6&quot;</td><td>852</td><td>890</td><td>871.0</td><td>38</td></tr><tr><td>&quot;5-6&quot;</td><td>873</td><td>892</td><td>882.5</td><td>19</td></tr><tr><td>&quot;5-6&quot;</td><td>871</td><td>908</td><td>889.5</td><td>37</td></tr></tbody></table></div>"
      ],
      "text/plain": [
       "shape: (12, 5)\n",
       "┌──────┬─────┬─────┬───────┬─────┐\n",
       "│ grup ┆ a   ┆ b   ┆ mean  ┆ R   │\n",
       "│ ---  ┆ --- ┆ --- ┆ ---   ┆ --- │\n",
       "│ str  ┆ i64 ┆ i64 ┆ f64   ┆ i64 │\n",
       "╞══════╪═════╪═════╪═══════╪═════╡\n",
       "│ 1-2  ┆ 933 ┆ 897 ┆ 915.0 ┆ 36  │\n",
       "│ 1-2  ┆ 937 ┆ 898 ┆ 917.5 ┆ 39  │\n",
       "│ 1-2  ┆ 938 ┆ 915 ┆ 926.5 ┆ 23  │\n",
       "│ 1-2  ┆ 935 ┆ 913 ┆ 924.0 ┆ 22  │\n",
       "│ 3-4  ┆ 840 ┆ 900 ┆ 870.0 ┆ 60  │\n",
       "│ …    ┆ …   ┆ …   ┆ …     ┆ …   │\n",
       "│ 3-4  ┆ 930 ┆ 900 ┆ 915.0 ┆ 30  │\n",
       "│ 5-6  ┆ 879 ┆ 903 ┆ 891.0 ┆ 24  │\n",
       "│ 5-6  ┆ 852 ┆ 890 ┆ 871.0 ┆ 38  │\n",
       "│ 5-6  ┆ 873 ┆ 892 ┆ 882.5 ┆ 19  │\n",
       "│ 5-6  ┆ 871 ┆ 908 ┆ 889.5 ┆ 37  │\n",
       "└──────┴─────┴─────┴───────┴─────┘"
      ]
     },
     "execution_count": 106,
     "metadata": {},
     "output_type": "execute_result"
    }
   ],
   "source": [
    "n_pad = 4\n",
    "n = df.shape[0]\n",
    "genap = [x-1 for x in range(1, n + 1) if x % 2 != 0]\n",
    "ganjil = [x-1 for x in range(1, n + 1) if x % 2 == 0]\n",
    "\n",
    "a = []\n",
    "for i in genap:\n",
    "    for j in range(n_pad):\n",
    "        a.append(df[i,j])\n",
    "\n",
    "b = []\n",
    "for i in ganjil:\n",
    "    for j in range(n_pad):\n",
    "        b.append(df[i,j])\n",
    "\n",
    "df_kelompok = df.select([pl.col(\"grup\").repeat_by(2).explode()])\n",
    "df_kelompok = df_kelompok.with_columns([\n",
    "    pl.Series(a).alias(\"a\"),\n",
    "    pl.Series(b).alias(\"b\")\n",
    "])\n",
    "df_kelompok = df_kelompok.with_columns(pl.mean_horizontal(pl.col(\"a\", \"b\")).alias(\"mean\"))\n",
    "df_kelompok.with_columns(R=(pl.col(\"a\")-pl.col(\"b\")).abs())"
   ]
  }
 ],
 "metadata": {
  "kernelspec": {
   "display_name": "base",
   "language": "python",
   "name": "python3"
  },
  "language_info": {
   "codemirror_mode": {
    "name": "ipython",
    "version": 3
   },
   "file_extension": ".py",
   "mimetype": "text/x-python",
   "name": "python",
   "nbconvert_exporter": "python",
   "pygments_lexer": "ipython3",
   "version": "3.11.5"
  }
 },
 "nbformat": 4,
 "nbformat_minor": 2
}
